{
 "cells": [
  {
   "cell_type": "code",
   "execution_count": 1,
   "metadata": {},
   "outputs": [
    {
     "name": "stdout",
     "output_type": "stream",
     "text": [
      "lihat-lihat saja tetapi tidak beli\n"
     ]
    }
   ],
   "source": [
    "belanja = False\n",
    "ada_diskon = True\n",
    "ada_uang = False\n",
    "if belanja == True:                                   #jika belanja\n",
    "    if ada_diskon == True:                            #jika belanja dan ada diskon\n",
    "        if ada_uang == True:                          #jika belanja, ada diskon dan ada uang\n",
    "            print(\"sudah pasti belanja\")\n",
    "        else:                                         #jika belanja, ada diskon, tetapi tidak ada uang\n",
    "            print(\"ambil tabungan\")\n",
    "    else:                                             #jika belanja tetapi tidak ada diskon\n",
    "        if ada_uang == True:                          #jika belanja, tidak ada diskon, tetapi ada uang\n",
    "            print(\"lagi hedon\")\n",
    "        else:                                         #jika belanja, tidak ada diskon, dan tidak ada uang\n",
    "            print(\"tidak jadi belanja\")\n",
    "else:   #jika tidak belanja\n",
    "    if ada_diskon == True:                            #jika tidak belanja tetapi ada diskon\n",
    "        if ada_uang == True:                          #jika tidak belanja, ada diskon, dan ada uang\n",
    "            print(\"ada kebutuhan yang lebih penting\")\n",
    "        else:                                         #jika tidak belanja, ada diskon, dan tidak ada uang\n",
    "            print(\"lihat-lihat saja tetapi tidak beli\")\n",
    "    else:                                             #jika tidak belanja dan tidak ada promo\n",
    "        if ada_uang == True:                          #jika tidak belanja, tidak ada diskon, ada uang\n",
    "            print(\"lagi hemat\")\n",
    "        else:                                         #jika tidak belanja, tidak ada diskon, dan tidak ada uang\n",
    "            print(\"sudah pasti tidak belanja\")"
   ]
  },
  {
   "cell_type": "code",
   "execution_count": null,
   "metadata": {},
   "outputs": [],
   "source": []
  }
 ],
 "metadata": {
  "kernelspec": {
   "display_name": "Python 3",
   "language": "python",
   "name": "python3"
  },
  "language_info": {
   "codemirror_mode": {
    "name": "ipython",
    "version": 3
   },
   "file_extension": ".py",
   "mimetype": "text/x-python",
   "name": "python",
   "nbconvert_exporter": "python",
   "pygments_lexer": "ipython3",
   "version": "3.7.4"
  }
 },
 "nbformat": 4,
 "nbformat_minor": 2
}
